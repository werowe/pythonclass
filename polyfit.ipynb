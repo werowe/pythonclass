{
 "cells": [
  {
   "cell_type": "code",
   "execution_count": 69,
   "metadata": {},
   "outputs": [],
   "source": [
    "import numpy as np\n",
    "import matplotlib.pyplot as plt\n",
    "\n",
    "x=np.array([44000,44001,44002,44003,44004,44005,44006,44007,44008])\n",
    "y=np.array([777,829,838,898,940,1049,1070,1104,1169])\n",
    " \n",
    "\n",
    "p=np.polyfit(x,y,2)\n",
    "\n",
    " "
   ]
  },
  {
   "cell_type": "code",
   "execution_count": 70,
   "metadata": {},
   "outputs": [
    {
     "name": "stdout",
     "output_type": "stream",
     "text": [
      "date Jun 28 cases 1172\n",
      "date Jun 29 cases 1231\n",
      "date Jun 30 cases 1291\n",
      "date Jul 01 cases 1353\n",
      "date Jul 02 cases 1417\n",
      "date Jul 03 cases 1483\n",
      "date Jul 04 cases 1551\n",
      "date Jul 05 cases 1621\n",
      "date Jul 06 cases 1692\n",
      "date Jul 07 cases 1765\n",
      "date Jul 08 cases 1841\n",
      "date Jul 09 cases 1918\n",
      "date Jul 10 cases 1996\n",
      "date Jul 11 cases 2077\n"
     ]
    }
   ],
   "source": [
    "d = x[0]+1\n",
    "\n",
    "from datetime import datetime\n",
    "from datetime import timedelta  \n",
    " \n",
    "\n",
    "days=datetime(1900,1,1)\n",
    "\n",
    "x1=np.array([(days + timedelta(days=int(xi))).day for xi in x])\n",
    "\n",
    "\n",
    "da = np.array([])\n",
    "za = np.array([])\n",
    "\n",
    "start=x[len(x)-1]\n",
    "end=start+14\n",
    "for d in range(start,end):\n",
    "    day = days + timedelta(days=d)\n",
    "    da=np.append(da,\"%s\"% day.strftime('%b %d'))\n",
    "    z = p[0]*(d**2) + p[1]*d + p[2]\n",
    "    za=np.append(za,int(z))\n",
    "    \n",
    "    print(\"date %s cases %i\" % (day.strftime('%b %d'), int(z)))\n",
    " "
   ]
  },
  {
   "cell_type": "code",
   "execution_count": 71,
   "metadata": {},
   "outputs": [
    {
     "data": {
      "image/png": "[encoded data removed]",
      "text/plain": [
       "<Figure size 432x288 with 2 Axes>"
      ]
     },
     "metadata": {
      "needs_background": "light"
     },
     "output_type": "display_data"
    }
   ],
   "source": [
    "fig, axs = plt.subplots(1, 2, constrained_layout=True)\n",
    "ax = axs[0]\n",
    "ax.set_ylim(int(y[0]),za[len(za)-1]) \n",
    "ax.plot(x1,y,color='b')\n",
    "ax.legend(['actual cases'])\n",
    "ax.grid(True)\n",
    "\n",
    "ax = axs[1]\n",
    "ax.set_xticklabels(da, rotation=90, ha='right')\n",
    "ax.plot(da,za,color='r')\n",
    "\n",
    "ax.legend(['projected cases'])\n",
    "ax.grid(True)"
   ]
  },
  {
   "cell_type": "code",
   "execution_count": null,
   "metadata": {},
   "outputs": [],
   "source": []
  },
  {
   "cell_type": "code",
   "execution_count": null,
   "metadata": {},
   "outputs": [],
   "source": []
  },
  {
   "cell_type": "code",
   "execution_count": null,
   "metadata": {},
   "outputs": [],
   "source": []
  },
  {
   "cell_type": "code",
   "execution_count": null,
   "metadata": {},
   "outputs": [],
   "source": []
  },
  {
   "cell_type": "code",
   "execution_count": null,
   "metadata": {},
   "outputs": [],
   "source": []
  },
  {
   "cell_type": "code",
   "execution_count": null,
   "metadata": {},
   "outputs": [],
   "source": []
  }
 ],
 "metadata": {
  "kernelspec": {
   "display_name": "Python 3",
   "language": "python",
   "name": "python3"
  },
  "language_info": {
   "codemirror_mode": {
    "name": "ipython",
    "version": 3
   },
   "file_extension": ".py",
   "mimetype": "text/x-python",
   "name": "python",
   "nbconvert_exporter": "python",
   "pygments_lexer": "ipython3",
   "version": "3.4.4"
  }
 },
 "nbformat": 4,
 "nbformat_minor": 2
}
