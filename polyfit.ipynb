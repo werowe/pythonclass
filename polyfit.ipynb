{
 "cells": [
  {
   "cell_type": "code",
   "execution_count": 82,
   "metadata": {},
   "outputs": [],
   "source": [
    "import numpy as np\n",
    "import matplotlib.pyplot as plt\n",
    "\n",
    "x=np.array([44007,44008,44009,44010,44011,44012,44013,44014])\n",
    "y=np.array([1169,1237,1283,1404,1432,1526,1635,1647])\n",
    " \n",
    "\n",
    "p=np.polyfit(x,y,2)\n",
    "\n",
    " "
   ]
  },
  {
   "cell_type": "code",
   "execution_count": 83,
   "metadata": {},
   "outputs": [
    {
     "name": "stdout",
     "output_type": "stream",
     "text": [
      "date Jul 04 cases 1669\n",
      "date Jul 05 cases 1740\n",
      "date Jul 06 cases 1812\n",
      "date Jul 07 cases 1883\n",
      "date Jul 08 cases 1953\n",
      "date Jul 09 cases 2024\n",
      "date Jul 10 cases 2094\n",
      "date Jul 11 cases 2163\n",
      "date Jul 12 cases 2233\n",
      "date Jul 13 cases 2302\n",
      "date Jul 14 cases 2371\n",
      "date Jul 15 cases 2440\n",
      "date Jul 16 cases 2508\n",
      "date Jul 17 cases 2576\n"
     ]
    }
   ],
   "source": [
    "d = x[0]+1\n",
    "\n",
    "from datetime import datetime\n",
    "from datetime import timedelta  \n",
    " \n",
    "\n",
    "days=datetime(1900,1,1)\n",
    "\n",
    "x1=np.array([(days + timedelta(days=int(xi))).strftime('%b %d') for xi in x])\n",
    "\n",
    "\n",
    "da = np.array([])\n",
    "za = np.array([])\n",
    "\n",
    "start=x[len(x)-1]\n",
    "end=start+14\n",
    "for d in range(start,end):\n",
    "    day = days + timedelta(days=d)\n",
    "    da=np.append(da,\"%s\"% day.strftime('%b %d'))\n",
    "    z = p[0]*(d**2) + p[1]*d + p[2]\n",
    "    za=np.append(za,int(z))\n",
    "    \n",
    "    print(\"date %s cases %i\" % (day.strftime('%b %d'), int(z)))\n",
    " "
   ]
  },
  {
   "cell_type": "code",
   "execution_count": 84,
   "metadata": {},
   "outputs": [
    {
     "data": {
      "image/png": "[encoded data removed]",
      "text/plain": [
       "<Figure size 432x288 with 2 Axes>"
      ]
     },
     "metadata": {
      "needs_background": "light"
     },
     "output_type": "display_data"
    }
   ],
   "source": [
    "fig, axs = plt.subplots(1, 2, constrained_layout=True)\n",
    "ax = axs[0]\n",
    "ax.set_xticklabels(x1, rotation=90, ha='right')\n",
    "ax.set_ylim(int(y[0]),za[len(za)-1]) \n",
    "ax.plot(x1,y,color='b')\n",
    "ax.legend(['actual cases'])\n",
    "ax.grid(True)\n",
    "\n",
    "ax = axs[1]\n",
    "ax.set_xticklabels(da, rotation=90, ha='right')\n",
    "ax.plot(da,za,color='r')\n",
    "\n",
    "ax.legend(['projected cases'])\n",
    "ax.grid(True)"
   ]
  },
  {
   "cell_type": "code",
   "execution_count": null,
   "metadata": {},
   "outputs": [],
   "source": []
  },
  {
   "cell_type": "code",
   "execution_count": null,
   "metadata": {},
   "outputs": [],
   "source": []
  },
  {
   "cell_type": "code",
   "execution_count": null,
   "metadata": {},
   "outputs": [],
   "source": []
  },
  {
   "cell_type": "code",
   "execution_count": null,
   "metadata": {},
   "outputs": [],
   "source": [
    " "
   ]
  },
  {
   "cell_type": "code",
   "execution_count": null,
   "metadata": {},
   "outputs": [],
   "source": []
  },
  {
   "cell_type": "code",
   "execution_count": null,
   "metadata": {},
   "outputs": [],
   "source": []
  },
  {
   "cell_type": "code",
   "execution_count": null,
   "metadata": {},
   "outputs": [],
   "source": []
  },
  {
   "cell_type": "code",
   "execution_count": null,
   "metadata": {},
   "outputs": [],
   "source": [
    " "
   ]
  },
  {
   "cell_type": "code",
   "execution_count": null,
   "metadata": {},
   "outputs": [],
   "source": [
    " "
   ]
  },
  {
   "cell_type": "code",
   "execution_count": null,
   "metadata": {},
   "outputs": [],
   "source": []
  }
 ],
 "metadata": {
  "kernelspec": {
   "display_name": "Python 3",
   "language": "python",
   "name": "python3"
  },
  "language_info": {
   "codemirror_mode": {
    "name": "ipython",
    "version": 3
   },
   "file_extension": ".py",
   "mimetype": "text/x-python",
   "name": "python",
   "nbconvert_exporter": "python",
   "pygments_lexer": "ipython3",
   "version": "3.4.4"
  }
 },
 "nbformat": 4,
 "nbformat_minor": 2
}
